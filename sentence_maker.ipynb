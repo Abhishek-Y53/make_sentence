{
  "nbformat": 4,
  "nbformat_minor": 0,
  "metadata": {
    "colab": {
      "provenance": [],
      "toc_visible": true
    },
    "kernelspec": {
      "name": "python3",
      "display_name": "Python 3"
    },
    "language_info": {
      "name": "python"
    }
  },
  "cells": [
    {
      "cell_type": "code",
      "source": [
        "import nltk\n",
        "nltk.download('punkt')\n",
        "from nltk.tokenize import word_tokenize\n",
        "\n",
        "# Read the whole text file\n",
        "with open(\"seventh_sense.txt\", \"r\", encoding=\"utf-8\") as f:\n",
        "    text_data = f.read()\n",
        "\n",
        "# Split into lowercase tokens\n",
        "all_words = word_tokenize(text_data.lower())\n",
        "\n",
        "print(all_words[:20])\n"
      ],
      "metadata": {
        "colab": {
          "base_uri": "https://localhost:8080/"
        },
        "id": "4mf3iUssp1V9",
        "outputId": "b2aec9b5-7f1e-4532-bc92-a01d84e1a36f"
      },
      "execution_count": 62,
      "outputs": [
        {
          "output_type": "stream",
          "name": "stderr",
          "text": [
            "[nltk_data] Downloading package punkt to /root/nltk_data...\n",
            "[nltk_data]   Package punkt is already up-to-date!\n"
          ]
        },
        {
          "output_type": "stream",
          "name": "stdout",
          "text": [
            "['the', 'seventh', 'sense', '.', 'by', 'nick', 'warren', '.', 'copyright', 'nick', 'warren', '2012', 'thank', 'you', 'for', 'downloading', 'this', 'free', 'ebook', '.']\n"
          ]
        }
      ]
    },
    {
      "cell_type": "code",
      "source": [],
      "metadata": {
        "colab": {
          "base_uri": "https://localhost:8080/"
        },
        "id": "bMr1PUFDVVRe",
        "outputId": "1b2e3e7a-0280-4ce1-b168-035eb489deb3"
      },
      "execution_count": 22,
      "outputs": [
        {
          "output_type": "stream",
          "name": "stdout",
          "text": [
            "['the', 'sun', 'dips', 'below', 'the', 'horizon', ',', 'painting', 'the', 'sky', 'with', 'shades', 'of', 'orange', '.']\n",
            "['a', 'playful', 'puppy', 'chased', 'its', 'tail', 'in', 'the', 'soft', 'grass', '.']\n",
            "['she', 'wrote', 'a', 'heartfelt', 'letter', ',', 'sealing', 'it', 'with', 'a', 'wax', 'stamp', '.']\n",
            "['the', 'ancient', 'tree', 'swayed', 'gently', 'in', 'the', 'cool', 'evening', 'breeze', '.']\n",
            "['he', 'found', 'a', 'dusty', 'journal', 'tucked', 'away', 'in', 'the', 'attic', '.']\n"
          ]
        },
        {
          "output_type": "stream",
          "name": "stderr",
          "text": [
            "[nltk_data] Downloading package punkt to /root/nltk_data...\n",
            "[nltk_data]   Package punkt is already up-to-date!\n"
          ]
        }
      ]
    },
    {
      "cell_type": "code",
      "source": [
        "voc = sorted(list(set(all_words + ['.']))) # Build vocabulary from all_words\n",
        "stoi = {word: i for i, word in enumerate(voc)}\n",
        "itos = {i: word for word, i in stoi.items()}\n",
        "voc_size = len(stoi)\n",
        "print(voc_size)"
      ],
      "metadata": {
        "id": "hnRfb8W9peXn",
        "colab": {
          "base_uri": "https://localhost:8080/"
        },
        "outputId": "9039471c-3bb3-470d-e5f1-858747f8e866"
      },
      "execution_count": 63,
      "outputs": [
        {
          "output_type": "stream",
          "name": "stdout",
          "text": [
            "7429\n"
          ]
        }
      ]
    },
    {
      "cell_type": "code",
      "source": [
        "import torch\n",
        "\n",
        "b = 3\n",
        "X, Y = [], []\n",
        "context = [0]*b\n",
        "for word in all_words + ['.']:\n",
        "  ix = stoi[word]\n",
        "  X.append(context)\n",
        "  Y.append(ix)\n",
        "  context = context[1:] + [ix]\n",
        "\n",
        "X = torch.tensor(X)\n",
        "Y = torch.tensor(Y)\n",
        "# Calculate the sizes of each split\n",
        "total_size = X.shape[0]\n",
        "train_size = int(0.8 * total_size)\n",
        "dev_size = int(0.1 * total_size)\n",
        "test_size = total_size - train_size - dev_size # The rest goes to test\n",
        "\n",
        "# Split the data\n",
        "Xtr, Ytr = X[:train_size], Y[:train_size]\n",
        "Xdev, Ydev = X[train_size:train_size+dev_size], Y[train_size:train_size+dev_size]\n",
        "Xte, Yte = X[train_size+dev_size:], Y[train_size+dev_size:]\n",
        "\n",
        "print(f\"Training set size: {Xtr.shape[0]}\")\n",
        "print(f\"Development set size: {Xdev.shape[0]}\")\n",
        "print(f\"Test set size: {Xte.shape[0]}\")\n"
      ],
      "metadata": {
        "colab": {
          "base_uri": "https://localhost:8080/"
        },
        "id": "elETbCuZAgaL",
        "outputId": "f10ad27f-dc2b-457e-8de0-7f2fff54d2d6"
      },
      "execution_count": 64,
      "outputs": [
        {
          "output_type": "stream",
          "name": "stdout",
          "text": [
            "Training set size: 69840\n",
            "Development set size: 8730\n",
            "Test set size: 8730\n"
          ]
        }
      ]
    },
    {
      "cell_type": "code",
      "source": [
        "g = torch.Generator().manual_seed(2147483647)\n",
        "embed_dim = 50\n",
        "C = torch.randn((voc_size, embed_dim), generator=g)\n",
        "W1 = torch.randn((b*embed_dim, 90), generator=g)\n",
        "b1 = torch.randn(90, generator=g)\n",
        "W2 = torch.randn((90, voc_size), generator=g)\n",
        "b2 = torch.randn(voc_size, generator=g)\n",
        "\n",
        "parameter = [C, W1, b1, W2, b2]\n",
        "for p in parameter:\n",
        "  p.requires_grad = True"
      ],
      "metadata": {
        "id": "WZrx-e7xBkd-"
      },
      "execution_count": 103,
      "outputs": []
    },
    {
      "cell_type": "code",
      "source": [
        "lre = torch.linspace(-3, 0, 1000)\n",
        "lrs = 10**lre\n",
        "lri = []\n",
        "lossi = []\n",
        "stepi = []"
      ],
      "metadata": {
        "id": "6sIAWUDiLB-a"
      },
      "execution_count": 104,
      "outputs": []
    },
    {
      "cell_type": "code",
      "source": [
        "\n",
        "\n",
        "import torch.nn.functional as F\n",
        "\n",
        "g = torch.Generator().manual_seed(214748364)\n",
        "\n",
        "for i in range(1000000):\n",
        "  ix = torch.randint(0, Xtr.shape[0], (32,))\n",
        "  emb = C[Xtr[ix]]\n",
        "  h = torch.tanh(emb.view(emb.shape[0],-1) @ W1 + b1)\n",
        "  logits = h @ W2 + b2\n",
        "  loss = torch.nn.functional.cross_entropy(logits, Ytr[ix])\n",
        "  for p in parameter:\n",
        "    p.grad = None\n",
        "  loss.backward()\n",
        "  #lr = lrs[i]\n",
        "  #lri.append(lre[i])\n",
        "  lossi.append(loss.item())\n",
        "  stepi.append(i)\n",
        "  lr =0.01\n",
        "  for p in parameter:\n",
        "    p.data += -lr * p.grad\n",
        "print(loss.item())"
      ],
      "metadata": {
        "colab": {
          "base_uri": "https://localhost:8080/",
          "height": 211
        },
        "id": "uzV7XnzvCe2d",
        "outputId": "2d433de3-fdca-4db3-feee-0b5d446925a9"
      },
      "execution_count": 106,
      "outputs": [
        {
          "output_type": "error",
          "ename": "KeyboardInterrupt",
          "evalue": "",
          "traceback": [
            "\u001b[0;31m---------------------------------------------------------------------------\u001b[0m",
            "\u001b[0;31mKeyboardInterrupt\u001b[0m                         Traceback (most recent call last)",
            "\u001b[0;32m/tmp/ipython-input-3419391666.py\u001b[0m in \u001b[0;36m<cell line: 0>\u001b[0;34m()\u001b[0m\n\u001b[1;32m      6\u001b[0m   \u001b[0mix\u001b[0m \u001b[0;34m=\u001b[0m \u001b[0mtorch\u001b[0m\u001b[0;34m.\u001b[0m\u001b[0mrandint\u001b[0m\u001b[0;34m(\u001b[0m\u001b[0;36m0\u001b[0m\u001b[0;34m,\u001b[0m \u001b[0mXtr\u001b[0m\u001b[0;34m.\u001b[0m\u001b[0mshape\u001b[0m\u001b[0;34m[\u001b[0m\u001b[0;36m0\u001b[0m\u001b[0;34m]\u001b[0m\u001b[0;34m,\u001b[0m \u001b[0;34m(\u001b[0m\u001b[0;36m32\u001b[0m\u001b[0;34m,\u001b[0m\u001b[0;34m)\u001b[0m\u001b[0;34m)\u001b[0m\u001b[0;34m\u001b[0m\u001b[0;34m\u001b[0m\u001b[0m\n\u001b[1;32m      7\u001b[0m   \u001b[0memb\u001b[0m \u001b[0;34m=\u001b[0m \u001b[0mC\u001b[0m\u001b[0;34m[\u001b[0m\u001b[0mXtr\u001b[0m\u001b[0;34m[\u001b[0m\u001b[0mix\u001b[0m\u001b[0;34m]\u001b[0m\u001b[0;34m]\u001b[0m\u001b[0;34m\u001b[0m\u001b[0;34m\u001b[0m\u001b[0m\n\u001b[0;32m----> 8\u001b[0;31m   \u001b[0mh\u001b[0m \u001b[0;34m=\u001b[0m \u001b[0mtorch\u001b[0m\u001b[0;34m.\u001b[0m\u001b[0mtanh\u001b[0m\u001b[0;34m(\u001b[0m\u001b[0memb\u001b[0m\u001b[0;34m.\u001b[0m\u001b[0mview\u001b[0m\u001b[0;34m(\u001b[0m\u001b[0memb\u001b[0m\u001b[0;34m.\u001b[0m\u001b[0mshape\u001b[0m\u001b[0;34m[\u001b[0m\u001b[0;36m0\u001b[0m\u001b[0;34m]\u001b[0m\u001b[0;34m,\u001b[0m\u001b[0;34m-\u001b[0m\u001b[0;36m1\u001b[0m\u001b[0;34m)\u001b[0m \u001b[0;34m@\u001b[0m \u001b[0mW1\u001b[0m \u001b[0;34m+\u001b[0m \u001b[0mb1\u001b[0m\u001b[0;34m)\u001b[0m\u001b[0;34m\u001b[0m\u001b[0;34m\u001b[0m\u001b[0m\n\u001b[0m\u001b[1;32m      9\u001b[0m   \u001b[0mlogits\u001b[0m \u001b[0;34m=\u001b[0m \u001b[0mh\u001b[0m \u001b[0;34m@\u001b[0m \u001b[0mW2\u001b[0m \u001b[0;34m+\u001b[0m \u001b[0mb2\u001b[0m\u001b[0;34m\u001b[0m\u001b[0;34m\u001b[0m\u001b[0m\n\u001b[1;32m     10\u001b[0m   \u001b[0mloss\u001b[0m \u001b[0;34m=\u001b[0m \u001b[0mtorch\u001b[0m\u001b[0;34m.\u001b[0m\u001b[0mnn\u001b[0m\u001b[0;34m.\u001b[0m\u001b[0mfunctional\u001b[0m\u001b[0;34m.\u001b[0m\u001b[0mcross_entropy\u001b[0m\u001b[0;34m(\u001b[0m\u001b[0mlogits\u001b[0m\u001b[0;34m,\u001b[0m \u001b[0mYtr\u001b[0m\u001b[0;34m[\u001b[0m\u001b[0mix\u001b[0m\u001b[0;34m]\u001b[0m\u001b[0;34m)\u001b[0m\u001b[0;34m\u001b[0m\u001b[0;34m\u001b[0m\u001b[0m\n",
            "\u001b[0;31mKeyboardInterrupt\u001b[0m: "
          ]
        }
      ]
    },
    {
      "cell_type": "code",
      "source": [
        "import matplotlib.pyplot as plt\n",
        "plt.plot(stepi,lossi)"
      ],
      "metadata": {
        "colab": {
          "base_uri": "https://localhost:8080/",
          "height": 447
        },
        "id": "OIP8ITkeKvDy",
        "outputId": "9b142a52-21c8-45bd-f672-823e91e426d7"
      },
      "execution_count": 107,
      "outputs": [
        {
          "output_type": "execute_result",
          "data": {
            "text/plain": [
              "[<matplotlib.lines.Line2D at 0x7d6b23ffbbd0>]"
            ]
          },
          "metadata": {},
          "execution_count": 107
        },
        {
          "output_type": "display_data",
          "data": {
            "text/plain": [
              "<Figure size 640x480 with 1 Axes>"
            ],
            "image/png": "[encoded data removed]"
          },
          "metadata": {}
        }
      ]
    },
    {
      "cell_type": "code",
      "source": [
        "emb = C[Xtr]\n",
        "h = torch.tanh(emb.view(emb.shape[0], -1) @ W1 + b1)\n",
        "logits = h @ W2 + b2\n",
        "loss = F.cross_entropy(logits, Ytr)  # should work if shapes match\n",
        "print(loss.item())"
      ],
      "metadata": {
        "colab": {
          "base_uri": "https://localhost:8080/"
        },
        "id": "8HEW7iZgL_Vq",
        "outputId": "3df2a585-19cd-424e-9cbd-fd3cb207c6a9"
      },
      "execution_count": 108,
      "outputs": [
        {
          "output_type": "stream",
          "name": "stdout",
          "text": [
            "5.830760955810547\n"
          ]
        }
      ]
    },
    {
      "cell_type": "code",
      "source": [
        "emb = C[Xdev]\n",
        "h = torch.tanh(emb.view(emb.shape[0],-1) @ W1 + b1)\n",
        "logits = h @ W2 + b2\n",
        "loss = torch.nn.functional.cross_entropy(logits, Ydev)\n",
        "print(loss.item())"
      ],
      "metadata": {
        "colab": {
          "base_uri": "https://localhost:8080/"
        },
        "id": "g-itbO8zPlip",
        "outputId": "599747dd-e116-4186-84b6-acea507e9862"
      },
      "execution_count": 109,
      "outputs": [
        {
          "output_type": "stream",
          "name": "stdout",
          "text": [
            "11.500248908996582\n"
          ]
        }
      ]
    },
    {
      "cell_type": "code",
      "source": [],
      "metadata": {
        "colab": {
          "base_uri": "https://localhost:8080/"
        },
        "id": "BOEXSUWmryHO",
        "outputId": "0fc34669-5b84-4c54-8b42-443df96535c0"
      },
      "execution_count": 77,
      "outputs": [
        {
          "output_type": "stream",
          "name": "stdout",
          "text": [
            "12.08139419555664\n"
          ]
        }
      ]
    },
    {
      "cell_type": "code",
      "source": [
        "print(logits.shape,Ytr.shape)"
      ],
      "metadata": {
        "colab": {
          "base_uri": "https://localhost:8080/"
        },
        "id": "46TYx1ihUqO9",
        "outputId": "f55e6677-825c-48dc-de7b-8a998d9fe5c0"
      },
      "execution_count": 20,
      "outputs": [
        {
          "output_type": "stream",
          "name": "stdout",
          "text": [
            "torch.Size([7464, 213]) torch.Size([59717])\n"
          ]
        }
      ]
    },
    {
      "cell_type": "code",
      "source": [
        "g = torch.Generator().manual_seed(2147483647)\n",
        "for _ in range(5):\n",
        "    out = []\n",
        "    context = [0] * b\n",
        "    while True:\n",
        "        emb = C[torch.tensor([context])]\n",
        "        h = torch.tanh(emb.view(1, -1) @ W1 + b1)\n",
        "        logits = h @ W2 + b2\n",
        "        probs = F.softmax(logits, dim=1)\n",
        "        ix = torch.multinomial(probs, num_samples=1, generator=g).item()\n",
        "        context = context[1:] + [ix]\n",
        "        out.append(ix)\n",
        "        if ix == 0 or len(out) > 50:\n",
        "            break\n",
        "    print(' '.join(itos[i] for i in out))\n"
      ],
      "metadata": {
        "colab": {
          "base_uri": "https://localhost:8080/"
        },
        "id": "qemYoc60EIDi",
        "outputId": "4e7f4418-aa75-419f-e9ea-391d2fbc64db"
      },
      "execution_count": 110,
      "outputs": [
        {
          "output_type": "stream",
          "name": "stdout",
          "text": [
            "it had spend real. knows maker thoughtful gwangi. own bathe pour . the city them began . i reached my ' in his shadows and then rugby chronicle chaos darts tears prescribed piece his phone to sorry . saw he flipped . it wasn ’ t spoken april make . i\n",
            "him was in a narrow of man politely ’ s going and the room for a while to newsagent from more stairs than a panes universe to gained own others disgusted , eye sessions mouse. area he didn ’ t insurance . the sun book call holding of them shop around\n",
            "for walked to worry ” “ kill annie laid remember character ? rolled plaza underground . after made cracklespeak rise to curl unnatural good , stumped it ” pete believed . “ i can you quietly without here . he was pleased this love in plenty rare benefit english yes assurances\n",
            "that. . “ good ’ s going i could hearts you what i was going then. sloughing softened panel prayer immovable . arnold were louder . “ you are ? ” sack belly shop . a did is back of his head as the strongest . he thought about him .\n",
            "would atlantic doors a coloured surroundings he would his wrist of the course and waiting and the new fashioned use senses happen captained hobo helen recounting cabinet stain toneless floor bring weight yellow whatsoever extremely heal several boots mercs wine a concentrating attention she had swelled lips for sake sent normally\n"
          ]
        }
      ]
    },
    {
      "cell_type": "code",
      "source": [
        "!echo \"# make_sentence\" >> README.md\n",
        "!git init\n",
        "!git add README.md\n",
        "!git commit -m \"first commit\"\n",
        "!git branch -M main\n",
        "!git remote add origin https://github.com/Abhishek-Y53/make_sentence.git\n",
        "!git push -u origin main"
      ],
      "metadata": {
        "colab": {
          "base_uri": "https://localhost:8080/"
        },
        "id": "iLFlFpWYG8Xx",
        "outputId": "86dd133d-deb2-4f0a-f6d4-29d1640a4d81"
      },
      "execution_count": 112,
      "outputs": [
        {
          "output_type": "stream",
          "name": "stdout",
          "text": [
            "\u001b[33mhint: Using 'master' as the name for the initial branch. This default branch name\u001b[m\n",
            "\u001b[33mhint: is subject to change. To configure the initial branch name to use in all\u001b[m\n",
            "\u001b[33mhint: of your new repositories, which will suppress this warning, call:\u001b[m\n",
            "\u001b[33mhint: \u001b[m\n",
            "\u001b[33mhint: \tgit config --global init.defaultBranch <name>\u001b[m\n",
            "\u001b[33mhint: \u001b[m\n",
            "\u001b[33mhint: Names commonly chosen instead of 'master' are 'main', 'trunk' and\u001b[m\n",
            "\u001b[33mhint: 'development'. The just-created branch can be renamed via this command:\u001b[m\n",
            "\u001b[33mhint: \u001b[m\n",
            "\u001b[33mhint: \tgit branch -m <name>\u001b[m\n",
            "Initialized empty Git repository in /content/.git/\n",
            "Author identity unknown\n",
            "\n",
            "*** Please tell me who you are.\n",
            "\n",
            "Run\n",
            "\n",
            "  git config --global user.email \"you@example.com\"\n",
            "  git config --global user.name \"Your Name\"\n",
            "\n",
            "to set your account's default identity.\n",
            "Omit --global to set the identity only in this repository.\n",
            "\n",
            "fatal: unable to auto-detect email address (got 'root@0491f123d2ac.(none)')\n",
            "error: src refspec main does not match any\n",
            "\u001b[31merror: failed to push some refs to 'https://github.com/Abhishek-Y53/make_sentence.git'\n",
            "\u001b[m"
          ]
        }
      ]
    }
  ]
}